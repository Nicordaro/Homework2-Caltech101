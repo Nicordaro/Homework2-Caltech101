{
  "nbformat": 4,
  "nbformat_minor": 0,
  "metadata": {
    "colab": {
      "name": "Homework2-MLDL.ipynb",
      "provenance": [],
      "collapsed_sections": [],
      "include_colab_link": true
    },
    "kernelspec": {
      "name": "python3",
      "display_name": "Python 3"
    },
    "accelerator": "GPU",
    "widgets": {
      "application/vnd.jupyter.widget-state+json": {
        "fb5007a544484407973965e4a8ea5e7f": {
          "model_module": "@jupyter-widgets/controls",
          "model_name": "HBoxModel",
          "state": {
            "_view_name": "HBoxView",
            "_dom_classes": [],
            "_model_name": "HBoxModel",
            "_view_module": "@jupyter-widgets/controls",
            "_model_module_version": "1.5.0",
            "_view_count": null,
            "_view_module_version": "1.5.0",
            "box_style": "",
            "layout": "IPY_MODEL_e917eb38e7e64d8db3abc199b0fc5ac1",
            "_model_module": "@jupyter-widgets/controls",
            "children": [
              "IPY_MODEL_53edcdd7b8284504958016b1684b14aa",
              "IPY_MODEL_64b41cf649c34d36bc73cb166bd1a2f0"
            ]
          }
        },
        "e917eb38e7e64d8db3abc199b0fc5ac1": {
          "model_module": "@jupyter-widgets/base",
          "model_name": "LayoutModel",
          "state": {
            "_view_name": "LayoutView",
            "grid_template_rows": null,
            "right": null,
            "justify_content": null,
            "_view_module": "@jupyter-widgets/base",
            "overflow": null,
            "_model_module_version": "1.2.0",
            "_view_count": null,
            "flex_flow": null,
            "width": null,
            "min_width": null,
            "border": null,
            "align_items": null,
            "bottom": null,
            "_model_module": "@jupyter-widgets/base",
            "top": null,
            "grid_column": null,
            "overflow_y": null,
            "overflow_x": null,
            "grid_auto_flow": null,
            "grid_area": null,
            "grid_template_columns": null,
            "flex": null,
            "_model_name": "LayoutModel",
            "justify_items": null,
            "grid_row": null,
            "max_height": null,
            "align_content": null,
            "visibility": null,
            "align_self": null,
            "height": null,
            "min_height": null,
            "padding": null,
            "grid_auto_rows": null,
            "grid_gap": null,
            "max_width": null,
            "order": null,
            "_view_module_version": "1.2.0",
            "grid_template_areas": null,
            "object_position": null,
            "object_fit": null,
            "grid_auto_columns": null,
            "margin": null,
            "display": null,
            "left": null
          }
        },
        "53edcdd7b8284504958016b1684b14aa": {
          "model_module": "@jupyter-widgets/controls",
          "model_name": "FloatProgressModel",
          "state": {
            "_view_name": "ProgressView",
            "style": "IPY_MODEL_4e68a0753c434b429e904dc845c30da7",
            "_dom_classes": [],
            "description": "100%",
            "_model_name": "FloatProgressModel",
            "bar_style": "success",
            "max": 244418560,
            "_view_module": "@jupyter-widgets/controls",
            "_model_module_version": "1.5.0",
            "value": 244418560,
            "_view_count": null,
            "_view_module_version": "1.5.0",
            "orientation": "horizontal",
            "min": 0,
            "description_tooltip": null,
            "_model_module": "@jupyter-widgets/controls",
            "layout": "IPY_MODEL_2618dc4a2d584ad19579770bcd75485e"
          }
        },
        "64b41cf649c34d36bc73cb166bd1a2f0": {
          "model_module": "@jupyter-widgets/controls",
          "model_name": "HTMLModel",
          "state": {
            "_view_name": "HTMLView",
            "style": "IPY_MODEL_6ee20e2a0bda42a2a9b746dd58bf0291",
            "_dom_classes": [],
            "description": "",
            "_model_name": "HTMLModel",
            "placeholder": "​",
            "_view_module": "@jupyter-widgets/controls",
            "_model_module_version": "1.5.0",
            "value": " 233M/233M [17:20&lt;00:00, 235kB/s]",
            "_view_count": null,
            "_view_module_version": "1.5.0",
            "description_tooltip": null,
            "_model_module": "@jupyter-widgets/controls",
            "layout": "IPY_MODEL_bc6b42728a87447d9052166131a3a73a"
          }
        },
        "4e68a0753c434b429e904dc845c30da7": {
          "model_module": "@jupyter-widgets/controls",
          "model_name": "ProgressStyleModel",
          "state": {
            "_view_name": "StyleView",
            "_model_name": "ProgressStyleModel",
            "description_width": "initial",
            "_view_module": "@jupyter-widgets/base",
            "_model_module_version": "1.5.0",
            "_view_count": null,
            "_view_module_version": "1.2.0",
            "bar_color": null,
            "_model_module": "@jupyter-widgets/controls"
          }
        },
        "2618dc4a2d584ad19579770bcd75485e": {
          "model_module": "@jupyter-widgets/base",
          "model_name": "LayoutModel",
          "state": {
            "_view_name": "LayoutView",
            "grid_template_rows": null,
            "right": null,
            "justify_content": null,
            "_view_module": "@jupyter-widgets/base",
            "overflow": null,
            "_model_module_version": "1.2.0",
            "_view_count": null,
            "flex_flow": null,
            "width": null,
            "min_width": null,
            "border": null,
            "align_items": null,
            "bottom": null,
            "_model_module": "@jupyter-widgets/base",
            "top": null,
            "grid_column": null,
            "overflow_y": null,
            "overflow_x": null,
            "grid_auto_flow": null,
            "grid_area": null,
            "grid_template_columns": null,
            "flex": null,
            "_model_name": "LayoutModel",
            "justify_items": null,
            "grid_row": null,
            "max_height": null,
            "align_content": null,
            "visibility": null,
            "align_self": null,
            "height": null,
            "min_height": null,
            "padding": null,
            "grid_auto_rows": null,
            "grid_gap": null,
            "max_width": null,
            "order": null,
            "_view_module_version": "1.2.0",
            "grid_template_areas": null,
            "object_position": null,
            "object_fit": null,
            "grid_auto_columns": null,
            "margin": null,
            "display": null,
            "left": null
          }
        },
        "6ee20e2a0bda42a2a9b746dd58bf0291": {
          "model_module": "@jupyter-widgets/controls",
          "model_name": "DescriptionStyleModel",
          "state": {
            "_view_name": "StyleView",
            "_model_name": "DescriptionStyleModel",
            "description_width": "",
            "_view_module": "@jupyter-widgets/base",
            "_model_module_version": "1.5.0",
            "_view_count": null,
            "_view_module_version": "1.2.0",
            "_model_module": "@jupyter-widgets/controls"
          }
        },
        "bc6b42728a87447d9052166131a3a73a": {
          "model_module": "@jupyter-widgets/base",
          "model_name": "LayoutModel",
          "state": {
            "_view_name": "LayoutView",
            "grid_template_rows": null,
            "right": null,
            "justify_content": null,
            "_view_module": "@jupyter-widgets/base",
            "overflow": null,
            "_model_module_version": "1.2.0",
            "_view_count": null,
            "flex_flow": null,
            "width": null,
            "min_width": null,
            "border": null,
            "align_items": null,
            "bottom": null,
            "_model_module": "@jupyter-widgets/base",
            "top": null,
            "grid_column": null,
            "overflow_y": null,
            "overflow_x": null,
            "grid_auto_flow": null,
            "grid_area": null,
            "grid_template_columns": null,
            "flex": null,
            "_model_name": "LayoutModel",
            "justify_items": null,
            "grid_row": null,
            "max_height": null,
            "align_content": null,
            "visibility": null,
            "align_self": null,
            "height": null,
            "min_height": null,
            "padding": null,
            "grid_auto_rows": null,
            "grid_gap": null,
            "max_width": null,
            "order": null,
            "_view_module_version": "1.2.0",
            "grid_template_areas": null,
            "object_position": null,
            "object_fit": null,
            "grid_auto_columns": null,
            "margin": null,
            "display": null,
            "left": null
          }
        }
      }
    }
  },
  "cells": [
    {
      "cell_type": "markdown",
      "metadata": {
        "id": "view-in-github",
        "colab_type": "text"
      },
      "source": [
        "<a href=\"https://colab.research.google.com/github/Nicordaro/Homework2-Caltech101/blob/master/Homework2_MLDL.ipynb\" target=\"_parent\"><img src=\"https://colab.research.google.com/assets/colab-badge.svg\" alt=\"Open In Colab\"/></a>"
      ]
    },
    {
      "cell_type": "markdown",
      "metadata": {
        "id": "c9QcGnGPdX2C",
        "colab_type": "text"
      },
      "source": [
        "\n",
        "**Install requirements**"
      ]
    },
    {
      "cell_type": "code",
      "metadata": {
        "id": "k9O3aM3Tb28q",
        "colab_type": "code",
        "colab": {}
      },
      "source": [
        "#!pip3 install 'torch==1.4.0'\n",
        "#!pip3 install 'torchvision==0.5.0'\n",
        "#!pip3 install 'Pillow-SIMD'\n",
        "#!pip3 install 'tqdm'"
      ],
      "execution_count": 0,
      "outputs": []
    },
    {
      "cell_type": "markdown",
      "metadata": {
        "id": "fo942LMOdlh4",
        "colab_type": "text"
      },
      "source": [
        "**Import libraries**"
      ]
    },
    {
      "cell_type": "code",
      "metadata": {
        "id": "DokFOdD1dJEl",
        "colab_type": "code",
        "colab": {}
      },
      "source": [
        "import os\n",
        "import logging\n",
        "import random\n",
        "import torch\n",
        "import copy\n",
        "\n",
        "import torch.nn as nn\n",
        "import torch.optim as optim\n",
        "from torch.utils.data import Subset, DataLoader\n",
        "from torch.backends import cudnn\n",
        "\n",
        "import torchvision\n",
        "from torchvision import transforms\n",
        "import torchvision.models as models\n",
        "\n",
        "from sklearn import model_selection\n",
        "import matplotlib\n",
        "import numpy \n",
        "import matplotlib.pyplot as plt\n",
        "\n",
        "\n",
        "from PIL import Image\n",
        "from tqdm import tqdm\n",
        "import time\n"
      ],
      "execution_count": 0,
      "outputs": []
    },
    {
      "cell_type": "markdown",
      "metadata": {
        "id": "OIDLJuIXK_vh",
        "colab_type": "text"
      },
      "source": [
        "**Set Arguments**"
      ]
    },
    {
      "cell_type": "code",
      "metadata": {
        "id": "d5PkYfqfK_SA",
        "colab_type": "code",
        "colab": {}
      },
      "source": [
        "DEVICE = 'cuda' # 'cuda' or 'cpu'\n",
        "\n",
        "modelchosen = 'pretrained'\n",
        "#modelchosen = 'not_trained'\n",
        "#modelchosen = 'resnet'\n",
        "#modelchosen = 'vgg'\n",
        "\n",
        "#use true or false to chose between augmentation of the dataset or not\n",
        "augment = True\n",
        "\n",
        "\n",
        "NUM_CLASSES = 101 # 101 + 1: There is am extra Background class that should be removed \n",
        "\n",
        "BATCH_SIZE = 256     # Higher batch sizes allows for larger learning rates. An empirical heuristic suggests that, when changing\n",
        "#BATCH_SIZE = 512     # the batch size, learning rate should change by the same factor to have comparable results\n",
        "\n",
        "#LR = 1e-3\n",
        "#LR = .1\n",
        "LR = .01         # The initial Learning Rate\n",
        "MOMENTUM = 0.9       # Hyperparameter for SGD, keep this at 0.9 when using SGD\n",
        "WEIGHT_DECAY = 5e-5  # Regularization, you can keep this at the default\n",
        "\n",
        "NUM_EPOCHS = 30      # Total number of training epochs (iterations over dataset)\n",
        "STEP_SIZE = 20\n",
        "#STEP_SIZE = 30       # How many epochs before decreasing learning rate (if using a step-down policy)\n",
        "#GAMMA = 0.1\n",
        "GAMMA = 0.2          # Multiplicative factor for learning rate step-down\n",
        "\n",
        "LOG_FREQUENCY = 10\n",
        "\n"
      ],
      "execution_count": 0,
      "outputs": []
    },
    {
      "cell_type": "markdown",
      "metadata": {
        "id": "9gwii0TBHvzh",
        "colab_type": "text"
      },
      "source": [
        "**Define Data Preprocessing**"
      ]
    },
    {
      "cell_type": "code",
      "metadata": {
        "id": "QUDdw4j2H0Mc",
        "colab_type": "code",
        "colab": {
          "base_uri": "https://localhost:8080/",
          "height": 35
        },
        "outputId": "71d4e285-f967-4d36-8efd-97ecea631846"
      },
      "source": [
        "\n",
        "\n",
        "# Define transforms for training phase\n",
        "train_transform = transforms.Compose([transforms.Resize(256),      # Resizes short size of the PIL image to 256\n",
        "                                      transforms.CenterCrop(224),  # Crops a central square patch of the image\n",
        "                                                                   # 224 because torchvision's AlexNet needs a 224x224 input!\n",
        "                                                                   # Remember this when applying different transformations, otherwise you get an error\n",
        "                                      transforms.ToTensor(), # Turn PIL Image to torch.Tensor\n",
        "                                      transforms.Normalize((0.5, 0.5, 0.5), (0.5, 0.5, 0.5)) # Normalizes tensor with mean and standard deviation\n",
        "])\n",
        "# Define transforms for the evaluation phase\n",
        "eval_transform = transforms.Compose([transforms.Resize(256),\n",
        "                                      transforms.CenterCrop(224),\n",
        "                                      transforms.ToTensor(),\n",
        "                                      transforms.Normalize((0.5, 0.5, 0.5), (0.5, 0.5, 0.5))                                    \n",
        "])\n",
        "\n",
        "\n",
        "if augment:\n",
        "  TL_train_transform = transforms.Compose([transforms.Resize(256),      # Resizes short size of the PIL image to 256\n",
        "                                           \n",
        "                                      transforms.RandomResizedCrop(size=256, scale=(0.8, 1.0)),\n",
        "                                      transforms.RandomRotation(degrees=20),\n",
        "                                      transforms.ColorJitter(),\n",
        "                                      transforms.RandomHorizontalFlip(),\n",
        "\n",
        "                                      transforms.CenterCrop(224),  # Image net standards\n",
        "                                      transforms.ToTensor(), # Turn PIL Image to torch.Tensor\n",
        "                                      transforms.Normalize((0.485, 0.456, 0.406), (0.229, 0.224, 0.225)) # Normalizes tensor with mean and standard deviation\n",
        "  ])\n",
        "  print('Data augmentation: Used')\n",
        "else:\n",
        "  TL_train_transform = transforms.Compose([transforms.Resize(256),      # Resizes short size of the PIL image to 256\n",
        "                                      transforms.CenterCrop(224),  # Image net standards\n",
        "                                      transforms.ToTensor(), # Turn PIL Image to torch.Tensor\n",
        "                                      transforms.Normalize((0.485, 0.456, 0.406), (0.229, 0.224, 0.225)) # Normalizes tensor with mean and standard deviation\n",
        "  ])\n",
        "  print('Data augmentation: Not used')\n",
        "#validation doesn't use augmentation\n",
        "TL_eval_transform = transforms.Compose([transforms.Resize(256),      \n",
        "                                      transforms.CenterCrop(224),\n",
        "                                      transforms.ToTensor(),\n",
        "                                      transforms.Normalize((0.485, 0.456, 0.406), (0.229, 0.224, 0.225))\n",
        "])\n",
        "\n"
      ],
      "execution_count": 4,
      "outputs": [
        {
          "output_type": "stream",
          "text": [
            "Data augmentation: Used\n"
          ],
          "name": "stdout"
        }
      ]
    },
    {
      "cell_type": "markdown",
      "metadata": {
        "id": "TFI2kbyGLH4f",
        "colab_type": "text"
      },
      "source": [
        "**TL True/False Dataset Prepare**"
      ]
    },
    {
      "cell_type": "code",
      "metadata": {
        "colab_type": "code",
        "id": "5vcIFoMFLGzx",
        "colab": {
          "base_uri": "https://localhost:8080/",
          "height": 217
        },
        "outputId": "8adcbe1f-4f88-4487-e4ec-11e2c9bc62b5"
      },
      "source": [
        "# Clone github repository with data\n",
        "if not os.path.isdir('./Caltech101'):\n",
        "  !git clone https://github.com/Nicordaro/Homework2-Caltech101\n",
        "  !mv 'Homework2-Caltech101' 'Caltech101'\n",
        "\n",
        "start_time = time.time()\n",
        "\n",
        "DATA_DIR = 'Caltech101/101_ObjectCategories'\n",
        "from Caltech101.caltech_dataset import Caltech\n",
        "\n",
        "if modelchosen != 'not_trained':\n",
        "  # Prepare Pytorch train/test Datasets\n",
        "  train_dataset_or = Caltech(DATA_DIR, split='train',  transform=TL_train_transform)\n",
        "  test_dataset = Caltech(DATA_DIR, split='test', transform=TL_eval_transform)\n",
        "else:\n",
        "  # Prepare Pytorch train/test Datasets\n",
        "  train_dataset_or = Caltech(DATA_DIR, split='train',  transform=train_transform)\n",
        "  test_dataset = Caltech(DATA_DIR, split='test', transform=eval_transform)\n",
        "\n",
        "indexes = train_dataset_or.train_idx\n",
        "\n",
        "#shuffle indexes\n",
        "numpy.random.shuffle(indexes)\n",
        "\n",
        "\n",
        "half = int(len(indexes)/2)\n",
        "\n",
        "train_indexes = indexes[:half] # split the indices for your train split\n",
        "val_indexes = indexes[half:] # split the indices for your val split\n",
        "\n",
        "train_dataset = Subset(train_dataset_or, train_indexes)\n",
        "val_dataset = Subset(train_dataset_or, val_indexes)\n",
        "\n",
        "test_dataset = Subset(test_dataset, test_dataset.test_idx)\n",
        "\n",
        "# Check dataset sizes\n",
        "print('Train Dataset: {}'.format(len(train_dataset)))\n",
        "print('Valid Dataset: {}'.format(len(val_dataset)))\n",
        "print('Test Dataset: {}'.format(len(test_dataset)))"
      ],
      "execution_count": 5,
      "outputs": [
        {
          "output_type": "stream",
          "text": [
            "Cloning into 'Homework2-Caltech101'...\n",
            "remote: Enumerating objects: 3, done.\u001b[K\n",
            "remote: Counting objects:  33% (1/3)\u001b[K\rremote: Counting objects:  66% (2/3)\u001b[K\rremote: Counting objects: 100% (3/3)\u001b[K\rremote: Counting objects: 100% (3/3), done.\u001b[K\n",
            "remote: Compressing objects: 100% (3/3), done.\u001b[K\n",
            "remote: Total 9301 (delta 0), reused 0 (delta 0), pack-reused 9298\u001b[K\n",
            "Receiving objects: 100% (9301/9301), 129.50 MiB | 30.09 MiB/s, done.\n",
            "Resolving deltas: 100% (31/31), done.\n",
            "Checking out files: 100% (9150/9150), done.\n",
            "Train Dataset: 2892\n",
            "Valid Dataset: 2892\n",
            "Test Dataset: 2893\n"
          ],
          "name": "stdout"
        }
      ]
    },
    {
      "cell_type": "markdown",
      "metadata": {
        "id": "FYEDQ7Z21ldN",
        "colab_type": "text"
      },
      "source": [
        "**Prepare Dataloaders**"
      ]
    },
    {
      "cell_type": "code",
      "metadata": {
        "id": "VriRw8SI1nle",
        "colab_type": "code",
        "colab": {}
      },
      "source": [
        "# Dataloaders iterate over pytorch datasets and transparently provide useful functions (e.g. parallelization and shuffling)\n",
        "train_dataloader = DataLoader(train_dataset, batch_size=BATCH_SIZE, shuffle=True, num_workers=4, drop_last=True)\n",
        "\n",
        "val_dataloader = DataLoader(val_dataset, batch_size=BATCH_SIZE, shuffle=False, num_workers=4)\n",
        "\n",
        "test_dataloader = DataLoader(test_dataset, batch_size=BATCH_SIZE, shuffle=False, num_workers=4)"
      ],
      "execution_count": 0,
      "outputs": []
    },
    {
      "cell_type": "markdown",
      "metadata": {
        "id": "gbZ1t5Qs2z4j",
        "colab_type": "text"
      },
      "source": [
        "**Prepare Network**"
      ]
    },
    {
      "cell_type": "code",
      "metadata": {
        "id": "exHUjtXa22DN",
        "colab_type": "code",
        "colab": {
          "base_uri": "https://localhost:8080/",
          "height": 85,
          "referenced_widgets": [
            "fb5007a544484407973965e4a8ea5e7f",
            "e917eb38e7e64d8db3abc199b0fc5ac1",
            "53edcdd7b8284504958016b1684b14aa",
            "64b41cf649c34d36bc73cb166bd1a2f0",
            "4e68a0753c434b429e904dc845c30da7",
            "2618dc4a2d584ad19579770bcd75485e",
            "6ee20e2a0bda42a2a9b746dd58bf0291",
            "bc6b42728a87447d9052166131a3a73a"
          ]
        },
        "outputId": "62b36924-1903-41b2-b0b3-43953807948a"
      },
      "source": [
        "# Loading AlexNet model\n",
        "if modelchosen == 'pretrained':\n",
        "  net = models.alexnet(pretrained=True)\n",
        "elif modelchosen == 'resnet':\n",
        "  net = models.resnet18(pretrained=True)\n",
        "elif modelchosen == 'vgg':\n",
        "  net = models.vgg16(pretrained=True)\n",
        "else:\n",
        "  net = models.alexnet()\n",
        "\n",
        "best_model = net\n",
        "# AlexNet has 1000 output neurons, corresponding to the 1000 ImageNet's classes\n",
        "# We need 101 outputs for Caltech-101\n",
        "if modelchosen != 'resnet':\n",
        "  net.classifier[6] = nn.Linear(4096, NUM_CLASSES) # nn.Linear in pytorch is a fully connected layer\n",
        "                                                 # The convolutional layer is nn.Conv2d\n",
        "else:\n",
        "  net.fc = nn.Linear(512,NUM_CLASSES)\n",
        "\n",
        "# We just changed the last layer of AlexNet with a new fully connected layer with 101 outputs\n",
        "# It is strongly suggested to study torchvision.models.alexnet source code"
      ],
      "execution_count": 7,
      "outputs": [
        {
          "output_type": "stream",
          "text": [
            "Downloading: \"https://download.pytorch.org/models/alexnet-owt-4df8aa71.pth\" to /root/.cache/torch/checkpoints/alexnet-owt-4df8aa71.pth\n"
          ],
          "name": "stderr"
        },
        {
          "output_type": "display_data",
          "data": {
            "application/vnd.jupyter.widget-view+json": {
              "model_id": "fb5007a544484407973965e4a8ea5e7f",
              "version_minor": 0,
              "version_major": 2
            },
            "text/plain": [
              "HBox(children=(FloatProgress(value=0.0, max=244418560.0), HTML(value='')))"
            ]
          },
          "metadata": {
            "tags": []
          }
        },
        {
          "output_type": "stream",
          "text": [
            "\n"
          ],
          "name": "stdout"
        }
      ]
    },
    {
      "cell_type": "markdown",
      "metadata": {
        "id": "KEyL3H_R4qCf",
        "colab_type": "text"
      },
      "source": [
        "**Prepare Training**"
      ]
    },
    {
      "cell_type": "code",
      "metadata": {
        "id": "9sjq00G94tSc",
        "colab_type": "code",
        "colab": {}
      },
      "source": [
        "# Define loss function\n",
        "criterion = nn.CrossEntropyLoss() # for classification, we use Cross Entropy\n",
        "\n",
        "##Decide which layers you want to freeze and which you want to optimize\n",
        "optimize = 'default' #optimize everything\n",
        "#optimize = 'fully' #optimize fully and freeze convolutional\n",
        "#optimize = 'convolutional' #optimize convolutional and freeze fully\n",
        "\n",
        "# Choose parameters to optimize\n",
        "# To access a different set of parameters, you have to access submodules of AlexNet\n",
        "# (nn.Module objects, like AlexNet, implement the Composite Pattern)\n",
        "# e.g.: parameters of the fully connected layers: net.classifier.parameters()\n",
        "# e.g.: parameters of the convolutional layers: look at alexnet's source code ;) ( net.features.parameters() )\n",
        "#parameters_to_optimize = net.parameters() # In this case we optimize over all the parameters of AlexNet\n",
        "\n",
        "if optimize == 'default':\n",
        "  parameters_to_optimize = net.parameters()\n",
        "elif optimize == 'fully':\n",
        "  parameters_to_optimize = net.classifier.parameters()\n",
        "elif optimize == 'convolutional':\n",
        "  parameters_to_optimize = net.features.parameters()\n",
        "\n",
        "# Define optimizer\n",
        "# An optimizer updates the weights based on loss\n",
        "# We use SGD with momentum\n",
        "optimizer = optim.SGD(parameters_to_optimize, lr=LR, momentum=MOMENTUM, weight_decay=WEIGHT_DECAY)\n",
        "\n",
        "##LET'S TRY OTHERS\n",
        "#optimizer = optim.Adam(parameters_to_optimize, lr=LR, weight_decay=WEIGHT_DECAY)\n",
        "#optimizer = optim.Adadelta(parameters_to_optimize, lr=LR, weight_decay=WEIGHT_DECAY)\n",
        "\n",
        "# Define scheduler\n",
        "# A scheduler dynamically changes learning rate\n",
        "# The most common schedule is the step(-down), which multiplies learning rate by gamma every STEP_SIZE epochs\n",
        "scheduler = optim.lr_scheduler.StepLR(optimizer, step_size=STEP_SIZE, gamma=GAMMA)"
      ],
      "execution_count": 0,
      "outputs": []
    },
    {
      "cell_type": "markdown",
      "metadata": {
        "id": "AxYUli9d9uYQ",
        "colab_type": "text"
      },
      "source": [
        "**2- Training**"
      ]
    },
    {
      "cell_type": "code",
      "metadata": {
        "id": "ZcoQ5fD49yT_",
        "colab_type": "code",
        "colab": {
          "base_uri": "https://localhost:8080/",
          "height": 1000
        },
        "outputId": "c514bcc5-702b-4ae5-e915-87863565123a"
      },
      "source": [
        "\n",
        "# By default, everything is loaded to cpu\n",
        "net = net.to(DEVICE) # this will bring the network to GPU if DEVICE is cuda\n",
        "\n",
        "cudnn.benchmark # Calling this optimizes runtime\n",
        "\n",
        "losses = []\n",
        "accuracies = []\n",
        "\n",
        "current_step = 0\n",
        "best_acc = 0\n",
        "# Start iterating over the epochs\n",
        "for epoch in range(NUM_EPOCHS):\n",
        "  print('Starting epoch {}/{}, LR = {}'.format(epoch+1, NUM_EPOCHS, scheduler.get_last_lr()))\n",
        "\n",
        "  # Iterate over the dataset\n",
        "  for images, labels in train_dataloader:\n",
        "    # Bring data over the device of choice\n",
        "    images = images.to(DEVICE)\n",
        "    labels = labels.to(DEVICE)\n",
        "\n",
        "    net.train() # Sets module in training mode\n",
        "\n",
        "    # PyTorch, by default, accumulates gradients after each backward pass\n",
        "    # We need to manually set the gradients to zero before starting a new iteration\n",
        "    optimizer.zero_grad() # Zero-ing the gradients\n",
        "\n",
        "    # Forward pass to the network\n",
        "    outputs = net(images)\n",
        "\n",
        "    # Compute loss based on output and ground truth\n",
        "    loss = criterion(outputs, labels)\n",
        "\n",
        "    # Log loss\n",
        "    if current_step % LOG_FREQUENCY == 0:\n",
        "      print('Step {}, Loss {}'.format(current_step, loss.item()))\n",
        "      losses.append(loss.item())\n",
        "\n",
        "    # Compute gradients for each layer and update weights\n",
        "    loss.backward()  # backward pass: computes gradients\n",
        "    optimizer.step() # update weights based on accumulated gradients\n",
        "\n",
        "    current_step += 1\n",
        "\n",
        "  #find the best model each step\n",
        "\n",
        "  net = net.to(DEVICE) # this will bring the network to GPU if DEVICE is cuda\n",
        "  net.train(False) # Set Network to evaluation mode\n",
        "\n",
        "  running_corrects = 0\n",
        "  for images, labels in val_dataloader:\n",
        "    images = images.to(DEVICE)\n",
        "    labels = labels.to(DEVICE)\n",
        "\n",
        "      # Forward Pass\n",
        "    outputs = net(images)\n",
        "\n",
        "      # Get predictions\n",
        "    _, preds = torch.max(outputs.data, 1)\n",
        "\n",
        "      # Update Corrects\n",
        "    running_corrects += torch.sum(preds == labels.data).data.item()\n",
        "\n",
        "    # Calculate Accuracy\n",
        "  accuracy = running_corrects / float(len(val_dataset))\n",
        "  print('\\nValidation Accuracy: {}'.format(accuracy))\n",
        "  accuracies.append(accuracy)\n",
        "  if accuracy > best_acc:\n",
        "    best_acc = accuracy\n",
        "    best_model = copy.deepcopy(net)\n",
        "  # Step the scheduler\n",
        "  scheduler.step() "
      ],
      "execution_count": 9,
      "outputs": [
        {
          "output_type": "stream",
          "text": [
            "Starting epoch 1/30, LR = [0.01]\n",
            "Step 0, Loss 4.874167442321777\n",
            "Step 10, Loss 2.397724151611328\n",
            "\n",
            "Validation Accuracy: 0.5567081604426003\n",
            "Starting epoch 2/30, LR = [0.01]\n",
            "Step 20, Loss 0.8193413615226746\n",
            "\n",
            "Validation Accuracy: 0.7244121715076072\n",
            "Starting epoch 3/30, LR = [0.01]\n",
            "Step 30, Loss 0.5404248237609863\n",
            "\n",
            "Validation Accuracy: 0.7655601659751037\n",
            "Starting epoch 4/30, LR = [0.01]\n",
            "Step 40, Loss 0.346993088722229\n",
            "\n",
            "Validation Accuracy: 0.7863070539419087\n",
            "Starting epoch 5/30, LR = [0.01]\n",
            "Step 50, Loss 0.22756123542785645\n",
            "\n",
            "Validation Accuracy: 0.7759336099585062\n",
            "Starting epoch 6/30, LR = [0.01]\n",
            "Step 60, Loss 0.13874179124832153\n",
            "\n",
            "Validation Accuracy: 0.7935684647302904\n",
            "Starting epoch 7/30, LR = [0.01]\n",
            "Step 70, Loss 0.13366340100765228\n",
            "\n",
            "Validation Accuracy: 0.7925311203319502\n",
            "Starting epoch 8/30, LR = [0.01]\n",
            "Step 80, Loss 0.09768888354301453\n",
            "\n",
            "Validation Accuracy: 0.7859612724757953\n",
            "Starting epoch 9/30, LR = [0.01]\n",
            "Step 90, Loss 0.06430888175964355\n",
            "\n",
            "Validation Accuracy: 0.7956431535269709\n",
            "Starting epoch 10/30, LR = [0.01]\n",
            "Step 100, Loss 0.11489203572273254\n",
            "\n",
            "Validation Accuracy: 0.7914937759336099\n",
            "Starting epoch 11/30, LR = [0.01]\n",
            "Step 110, Loss 0.04955738037824631\n",
            "Step 120, Loss 0.0723676010966301\n",
            "\n",
            "Validation Accuracy: 0.7949515905947441\n",
            "Starting epoch 12/30, LR = [0.01]\n",
            "Step 130, Loss 0.052053194493055344\n",
            "\n",
            "Validation Accuracy: 0.8067081604426003\n",
            "Starting epoch 13/30, LR = [0.01]\n",
            "Step 140, Loss 0.07753713428974152\n",
            "\n",
            "Validation Accuracy: 0.7973720608575381\n",
            "Starting epoch 14/30, LR = [0.01]\n",
            "Step 150, Loss 0.028699927031993866\n",
            "\n",
            "Validation Accuracy: 0.80567081604426\n",
            "Starting epoch 15/30, LR = [0.01]\n",
            "Step 160, Loss 0.029588300734758377\n",
            "\n",
            "Validation Accuracy: 0.803941908713693\n",
            "Starting epoch 16/30, LR = [0.01]\n",
            "Step 170, Loss 0.028923742473125458\n",
            "\n",
            "Validation Accuracy: 0.808091286307054\n",
            "Starting epoch 17/30, LR = [0.01]\n",
            "Step 180, Loss 0.03941166773438454\n",
            "\n",
            "Validation Accuracy: 0.808091286307054\n",
            "Starting epoch 18/30, LR = [0.01]\n",
            "Step 190, Loss 0.016090426594018936\n",
            "\n",
            "Validation Accuracy: 0.8053250345781466\n",
            "Starting epoch 19/30, LR = [0.01]\n",
            "Step 200, Loss 0.018862087279558182\n",
            "\n",
            "Validation Accuracy: 0.8101659751037344\n",
            "Starting epoch 20/30, LR = [0.01]\n",
            "Step 210, Loss 0.006560582667589188\n",
            "\n",
            "Validation Accuracy: 0.8112033195020747\n",
            "Starting epoch 21/30, LR = [0.002]\n",
            "Step 220, Loss 0.02992315962910652\n",
            "Step 230, Loss 0.007605433464050293\n",
            "\n",
            "Validation Accuracy: 0.8108575380359613\n",
            "Starting epoch 22/30, LR = [0.002]\n",
            "Step 240, Loss 0.008548445999622345\n",
            "\n",
            "Validation Accuracy: 0.8177731673582296\n",
            "Starting epoch 23/30, LR = [0.002]\n",
            "Step 250, Loss 0.010186400264501572\n",
            "\n",
            "Validation Accuracy: 0.8257261410788381\n",
            "Starting epoch 24/30, LR = [0.002]\n",
            "Step 260, Loss 0.0012799762189388275\n",
            "\n",
            "Validation Accuracy: 0.8250345781466113\n",
            "Starting epoch 25/30, LR = [0.002]\n",
            "Step 270, Loss 0.003414623439311981\n",
            "\n",
            "Validation Accuracy: 0.8174273858921162\n",
            "Starting epoch 26/30, LR = [0.002]\n",
            "Step 280, Loss 0.0024573393166065216\n",
            "\n",
            "Validation Accuracy: 0.8215767634854771\n",
            "Starting epoch 27/30, LR = [0.002]\n",
            "Step 290, Loss 0.001996256411075592\n",
            "\n",
            "Validation Accuracy: 0.8174273858921162\n",
            "Starting epoch 28/30, LR = [0.002]\n",
            "Step 300, Loss 0.0009843185544013977\n",
            "\n",
            "Validation Accuracy: 0.8291839557399724\n",
            "Starting epoch 29/30, LR = [0.002]\n",
            "Step 310, Loss 0.0009582526981830597\n",
            "\n",
            "Validation Accuracy: 0.8215767634854771\n",
            "Starting epoch 30/30, LR = [0.002]\n",
            "Step 320, Loss 0.0019137933850288391\n",
            "\n",
            "Validation Accuracy: 0.8246887966804979\n"
          ],
          "name": "stdout"
        }
      ]
    },
    {
      "cell_type": "markdown",
      "metadata": {
        "id": "UsHFI-GAJd69",
        "colab_type": "text"
      },
      "source": [
        "**Validation**"
      ]
    },
    {
      "cell_type": "code",
      "metadata": {
        "id": "EO3HV5pqJg1o",
        "colab_type": "code",
        "colab": {
          "base_uri": "https://localhost:8080/",
          "height": 54
        },
        "outputId": "1b91b6de-4551-4c7c-8774-6b4913859036"
      },
      "source": [
        "net = best_model\n",
        "net = net.to(DEVICE) # this will bring the network to GPU if DEVICE is cuda\n",
        "net.train(False) # Set Network to evaluation mode\n",
        "\n",
        "running_corrects = 0\n",
        "for images, labels in tqdm(val_dataloader):\n",
        "  images = images.to(DEVICE)\n",
        "  labels = labels.to(DEVICE)\n",
        "\n",
        "  # Forward Pass\n",
        "  outputs = net(images)\n",
        "\n",
        "  # Get predictions\n",
        "  _, preds = torch.max(outputs.data, 1)\n",
        "\n",
        "  # Update Corrects\n",
        "  running_corrects += torch.sum(preds == labels.data).data.item()\n",
        "\n",
        "# Calculate Accuracy\n",
        "accuracy = running_corrects / float(len(val_dataset))\n",
        "\n",
        "print('Validation Accuracy: {}'.format(accuracy))"
      ],
      "execution_count": 10,
      "outputs": [
        {
          "output_type": "stream",
          "text": [
            "100%|██████████| 12/12 [00:16<00:00,  1.37s/it]"
          ],
          "name": "stderr"
        },
        {
          "output_type": "stream",
          "text": [
            "Validation Accuracy: 0.8170816044260027\n"
          ],
          "name": "stdout"
        },
        {
          "output_type": "stream",
          "text": [
            "\n"
          ],
          "name": "stderr"
        }
      ]
    },
    {
      "cell_type": "markdown",
      "metadata": {
        "id": "jxekmR745ySe",
        "colab_type": "text"
      },
      "source": [
        "**Test**"
      ]
    },
    {
      "cell_type": "code",
      "metadata": {
        "id": "fSHcUqLB5yWO",
        "colab_type": "code",
        "colab": {
          "base_uri": "https://localhost:8080/",
          "height": 72
        },
        "outputId": "f50163b3-7f8d-48cd-8ab9-c52c4f1a2319"
      },
      "source": [
        "net = best_model\n",
        "net = net.to(DEVICE) # this will bring the network to GPU if DEVICE is cuda\n",
        "net.train(False) # Set Network to evaluation mode\n",
        "\n",
        "running_corrects = 0\n",
        "for images, labels in tqdm(test_dataloader):\n",
        "  images = images.to(DEVICE)\n",
        "  labels = labels.to(DEVICE)\n",
        "\n",
        "  # Forward Pass\n",
        "  outputs = net(images)\n",
        "\n",
        "  # Get predictions\n",
        "  _, preds = torch.max(outputs.data, 1)\n",
        "\n",
        "  # Update Corrects\n",
        "  running_corrects += torch.sum(preds == labels.data).data.item()\n",
        "\n",
        "# Calculate Accuracy\n",
        "accuracy = running_corrects / float(len(test_dataset))\n",
        "\n",
        "print('Test Accuracy: {}'.format(accuracy))\n",
        "tot_time = (time.time() - start_time)\n",
        "print(\"--- %s seconds ---\" % (time.time() - start_time))"
      ],
      "execution_count": 11,
      "outputs": [
        {
          "output_type": "stream",
          "text": [
            "100%|██████████| 12/12 [00:13<00:00,  1.15s/it]"
          ],
          "name": "stderr"
        },
        {
          "output_type": "stream",
          "text": [
            "Test Accuracy: 0.8081576218458347\n",
            "--- 1042.3077039718628 seconds ---\n"
          ],
          "name": "stdout"
        },
        {
          "output_type": "stream",
          "text": [
            "\n"
          ],
          "name": "stderr"
        }
      ]
    },
    {
      "cell_type": "markdown",
      "metadata": {
        "id": "isPDL9KXZWO6",
        "colab_type": "text"
      },
      "source": [
        "**Visual representation of Accuracy and Loss**"
      ]
    },
    {
      "cell_type": "code",
      "metadata": {
        "id": "p-vM_ntwR1c_",
        "colab_type": "code",
        "colab": {
          "base_uri": "https://localhost:8080/",
          "height": 911
        },
        "outputId": "8828cf3e-0449-4204-eebb-b54ba7f8a84b"
      },
      "source": [
        "x1 = numpy.arange(1, 31)\n",
        "x2 = numpy.arange(1, len(losses)+1)\n",
        "x2 = x2*10\n",
        "y1 = accuracies\n",
        "y2 = losses\n",
        "print(tot_time)\n",
        "plt.figure(figsize=(20,15), facecolor='white')\n",
        "plt.subplot(2, 1, 1)\n",
        "plt.plot(x1, y1, '.-')\n",
        "title = 'Accuracy and Loss with Resnet. Optimized: '+optimize+'. Accuracy: %.4f. Elapsed time: %.2f seconds.' % (accuracy, tot_time)\n",
        "plt.title(title)\n",
        "plt.xlabel('Epochs')\n",
        "plt.ylabel('Accuracy')\n",
        "plt.ylim(0, 1)\n",
        "\n",
        "\n",
        "plt.subplot(2, 1, 2)\n",
        "plt.plot(x2, y2, '.-', color ='red')\n",
        "plt.xlabel('Steps')\n",
        "plt.ylabel('Loss')\n",
        "plt.ylim(0, 5)\n",
        "\n",
        "plt.show()"
      ],
      "execution_count": 12,
      "outputs": [
        {
          "output_type": "stream",
          "text": [
            "1042.3076665401459\n"
          ],
          "name": "stdout"
        },
        {
          "output_type": "display_data",
          "data": {
            "image/png": "[encoded data removed]",
            "text/plain": [
              "<Figure size 1440x1080 with 2 Axes>"
            ]
          },
          "metadata": {
            "tags": []
          }
        }
      ]
    }
  ]
}